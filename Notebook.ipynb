{
  "nbformat": 4,
  "nbformat_minor": 0,
  "metadata": {
    "colab": {
      "name": "Notebook",
      "provenance": [],
      "authorship_tag": "ABX9TyM+eRSrgZytqvv20/zVI6GZ",
      "include_colab_link": true
    },
    "kernelspec": {
      "name": "python3",
      "display_name": "Python 3"
    },
    "language_info": {
      "name": "python"
    }
  },
  "cells": [
    {
      "cell_type": "markdown",
      "metadata": {
        "id": "view-in-github",
        "colab_type": "text"
      },
      "source": [
        "<a href=\"https://colab.research.google.com/github/siamakru/Predicting-Sound-Speed-in-Medium/blob/main/Notebook.ipynb\" target=\"_parent\"><img src=\"https://colab.research.google.com/assets/colab-badge.svg\" alt=\"Open In Colab\"/></a>"
      ]
    },
    {
      "cell_type": "code",
      "source": [
        "import numpy as np\n",
        "import pandas as pd\n",
        "import math"
      ],
      "metadata": {
        "id": "DPjUesMKdegC"
      },
      "execution_count": 2,
      "outputs": []
    },
    {
      "cell_type": "code",
      "source": [
        "df = pd.DataFrame({'medium':[\"air\",\"grease\",\"water\",\"brain tissue\",\"muscles\",\"bones\"],'c[ms-1]':[331,1470,1492,1530,1568,3600],'Z[gcm-2s-1]':[430,1.42*10**5,1.48*10**5,1.56*10**5,1.63*10**5,6.12*10**5],'rho[gcm-3]':[0.013,0.97,0.9982,1.02,1.04,1.7]})\n",
        "df.head()"
      ],
      "metadata": {
        "id": "8V500fp10hYZ"
      },
      "execution_count": null,
      "outputs": []
    }
  ]
}