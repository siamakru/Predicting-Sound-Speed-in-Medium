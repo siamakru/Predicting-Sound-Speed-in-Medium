{
  "nbformat": 4,
  "nbformat_minor": 0,
  "metadata": {
    "colab": {
      "name": "Notebook",
      "provenance": [],
      "authorship_tag": "ABX9TyPPugPIE83nkae+1p5HsAt+",
      "include_colab_link": true
    },
    "kernelspec": {
      "name": "python3",
      "display_name": "Python 3"
    },
    "language_info": {
      "name": "python"
    }
  },
  "cells": [
    {
      "cell_type": "markdown",
      "metadata": {
        "id": "view-in-github",
        "colab_type": "text"
      },
      "source": [
        "<a href=\"https://colab.research.google.com/github/siamakru/Predicting-Sound-Speed-in-Medium/blob/main/Notebook.ipynb\" target=\"_parent\"><img src=\"https://colab.research.google.com/assets/colab-badge.svg\" alt=\"Open In Colab\"/></a>"
      ]
    },
    {
      "cell_type": "code",
      "source": [
        "pip install mechanicalsoup"
      ],
      "metadata": {
        "id": "hv18Re7CuVHc"
      },
      "execution_count": null,
      "outputs": []
    },
    {
      "cell_type": "code",
      "source": [
        "pip install sqlite3"
      ],
      "metadata": {
        "id": "GRUF_pM4uiN_"
      },
      "execution_count": null,
      "outputs": []
    },
    {
      "cell_type": "code",
      "source": [
        "import numpy as np\n",
        "import pandas as pd\n",
        "import math\n",
        "import mechanicalsoup\n",
        "import pandas as pd\n",
        "import sqlite3"
      ],
      "metadata": {
        "id": "DPjUesMKdegC"
      },
      "execution_count": 19,
      "outputs": []
    },
    {
      "cell_type": "markdown",
      "source": [
        "**Web Scraping:**"
      ],
      "metadata": {
        "id": "_f1jgWSDu7fw"
      }
    },
    {
      "cell_type": "code",
      "source": [
        "browser = mechanicalsoup.StatefulBrowser()\n",
        "browser.open('https://www.thoughtco.com/table-of-densities-of-common-substances-603976')"
      ],
      "metadata": {
        "id": "madXYOTxvGkk"
      },
      "execution_count": null,
      "outputs": []
    },
    {
      "cell_type": "code",
      "source": [
        "df = pd.DataFrame({'medium':[\"air\",\"grease\",\"water\",\"brain tissue\",\"muscles\",\"bones\"],'c[ms-1]':[331,1470,1492,1530,1568,3600],'Z[gcm-2s-1]':[430,1.42*10**5,1.48*10**5,1.56*10**5,1.63*10**5,6.12*10**5],'rho[gcm-3]':[0.013,0.97,0.9982,1.02,1.04,1.7]})\n",
        "df.head()"
      ],
      "metadata": {
        "id": "8V500fp10hYZ"
      },
      "execution_count": null,
      "outputs": []
    },
    {
      "cell_type": "code",
      "source": [
        "df.columns"
      ],
      "metadata": {
        "id": "O0GLyX7L0ii7"
      },
      "execution_count": null,
      "outputs": []
    },
    {
      "cell_type": "code",
      "source": [
        "df.drop('Z[gcm-2s-1]',axis=1,inplace =True)"
      ],
      "metadata": {
        "id": "jVa4xPP-0Ag-"
      },
      "execution_count": 34,
      "outputs": []
    },
    {
      "cell_type": "code",
      "source": [
        "df.loc[len(df.index)] = ['PVC',1060,0.89]\n",
        "df"
      ],
      "metadata": {
        "id": "W2XM0QbV04ZT"
      },
      "execution_count": null,
      "outputs": []
    }
  ]
}